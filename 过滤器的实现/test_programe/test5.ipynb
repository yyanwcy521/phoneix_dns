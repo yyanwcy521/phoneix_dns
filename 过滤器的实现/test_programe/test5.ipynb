{
 "cells": [
  {
   "cell_type": "code",
   "execution_count": 75,
   "metadata": {},
   "outputs": [],
   "source": [
    "f=open(\"dga1.txt\",\"r\")"
   ]
  },
  {
   "cell_type": "code",
   "execution_count": 76,
   "metadata": {},
   "outputs": [],
   "source": [
    "list1 = []\n",
    "list2 = []\n",
    "list3 = []\n",
    "list4 = []\n",
    "set1 = set()\n",
    "set2 = set()\n",
    "set3 = set()\n",
    "dic1 = {}\n",
    "dic2 = {}\n",
    "dic = {}"
   ]
  },
  {
   "cell_type": "code",
   "execution_count": 77,
   "metadata": {},
   "outputs": [],
   "source": [
    "for line in f:\n",
    "    str1 = line.split('\\t')[0]\n",
    "    str2 = line.split('\\t')[1]\n",
    "\n",
    "    str3 = str2.partition('.')[0]\n",
    "    str4 = str2.partition('.')[-1]\n",
    "    \n",
    "    \n",
    "    int1=0\n",
    "    for x in str3:\n",
    "        if x.isalpha():\n",
    "            int1=int1+1\n",
    "            \n",
    "    int2=0\n",
    "    for x in str3:\n",
    "        if x.isdigit():\n",
    "            int2=int2+1\n",
    "            \n",
    "    rate = float(int2)/float(len(str3))\n",
    "    \n",
    "    if str1 in dic1:\n",
    "        dic1[str1].append(rate)\n",
    "    else:\n",
    "        dic1[str1] = []\n",
    "        dic1[str1].append(rate)\n",
    "    \n",
    "    "
   ]
  },
  {
   "cell_type": "code",
   "execution_count": 104,
   "metadata": {},
   "outputs": [
    {
     "name": "stdout",
     "output_type": "stream",
     "text": [
      "{'pykspa_v1': {'count': 44702, 'interval': set([6, 7, 8, 9, 10, 11, 12, 13, 14, 15]), 'num_ratio': set([0.0]), 'suff_type': set(['info', 'cc', 'biz', 'org', 'net', 'com'])}, 'murofet': {'count': 5319, 'interval': set([32, 33, 34, 35, 36, 37, 38, 39, 40, 41, 42, 11, 12, 13, 14, 15, 16, 43, 45, 44]), 'num_ratio': set([0.0, 0.5777777777777777]), 'suff_type': set(['info', 'ru', 'biz', 'org', 'net', 'com'])}, 'padcrypt': {'count': 168, 'interval': set([16]), 'num_ratio': set([0.0]), 'suff_type': set(['website', 'info', 'co', 'cc', 'de', 'co.uk', 'tk', 'ga', 'online', 'eu', 'org', 'net', 'com'])}, 'ramnit': {'count': 15921, 'interval': set([8, 9, 10, 11, 12, 13, 14, 15, 16, 17, 18, 19]), 'num_ratio': set([0.0]), 'suff_type': set(['eu', 'bid', 'com', 'click'])}, 'gameover': {'count': 12000, 'interval': set([32, 16, 17, 18, 19, 20, 21, 22, 23, 24, 25, 26, 27, 28, 29, 30, 31]), 'num_ratio': set([0.0, 0.75]), 'suff_type': set(['info', 'ru', 'biz', 'org', 'net', 'com'])}, 'ranbyus': {'count': 4960, 'interval': set([17, 14]), 'num_ratio': set([0.0]), 'suff_type': set(['me', 'pw', 'cc', 'tw', 'su', 'in', 'net', 'com'])}, 'vidro': {'count': 100, 'interval': set([7, 8, 9, 10, 11, 12]), 'num_ratio': set([0.0]), 'suff_type': set(['dyndns.org', 'net', 'com'])}, 'blackhole': {'count': 2, 'interval': set([16]), 'num_ratio': set([0.0]), 'suff_type': set(['ru'])}, 'ccleaner': {'count': 1, 'interval': set([13]), 'num_ratio': set([0.46153846153846156]), 'suff_type': set(['com'])}, 'xshellghost': {'count': 1, 'interval': set([13]), 'num_ratio': set([0.0]), 'suff_type': set(['com'])}, 'pykspa_v2_real': {'count': 199, 'interval': set([6, 7, 8, 9, 10, 11, 12]), 'num_ratio': set([0.0]), 'suff_type': set(['info', 'org', 'net', 'com'])}, 'locky': {'count': 1112, 'interval': set([5, 6, 7, 8, 9, 10, 11, 12, 13, 14, 15, 16, 17]), 'num_ratio': set([0.0]), 'suff_type': set(['xyz', 'it', 'su', 'in', 'eu', 'click', 'ru', 'nl', 'pw', 'tf', 'pl', 'pm', 'be', 'fr', 'de', 'biz', 'org', 'yt', 'info', 'work', 'us', 'uk'])}, 'tempedreve': {'count': 204, 'interval': set([8, 9, 10, 11, 7]), 'num_ratio': set([0.0]), 'suff_type': set(['info', 'org', 'net', 'com'])}, 'simda': {'count': 24271, 'interval': set([8, 11, 5, 6, 7]), 'num_ratio': set([0.0]), 'suff_type': set(['eu', 'info', 'net', 'com', 'su'])}, 'qadars': {'count': 1800, 'interval': set([12]), 'num_ratio': set([0.0, 0.75]), 'suff_type': set(['org', 'net', 'com', 'top'])}, 'symmi': {'count': 64, 'interval': set([8, 9, 10, 11, 12, 13, 14, 15]), 'num_ratio': set([0.0]), 'suff_type': set(['ddns.net'])}, 'banjori': {'count': 452369, 'interval': set([7, 11, 14, 15, 16, 17, 18, 19, 20, 21, 22, 23, 24, 25, 26]), 'num_ratio': set([0.0]), 'suff_type': set(['com'])}, 'tinba': {'count': 95739, 'interval': set([7, 8, 9, 10, 11, 12, 13, 14, 15, 16, 17, 18, 19]), 'num_ratio': set([0.0, 0.75]), 'suff_type': set(['co', 'cc', 'xyz', 'us', 'in', 'eu', 'click', 'ru', 'pw', 'space', 'online', 'net', 'co.in', 'me', 'club', 'bid', 'biz', 'org', 'info', 'me.uk', 'su', 'tech', 'gen.in', 'com', 'rent'])}, 'rovnix': {'count': 179996, 'interval': set([18]), 'num_ratio': set([0.0, 0.7222222222222222]), 'suff_type': set(['biz', 'ru', 'net', 'com', 'cn'])}, 'madmax': {'count': 1, 'interval': set([3]), 'num_ratio': set([0.0]), 'suff_type': set(['ejgb0cgqs5.com'])}, 'dyre': {'count': 1000, 'interval': set([34]), 'num_ratio': set([0.35294117647058826, 0.8529411764705882]), 'suff_type': set(['cn', 'to', 'cc', 'hk', 'ws', 'tk', 'in', 'so'])}, 'suppobox': {'count': 2383, 'interval': set([8, 9, 10, 11, 12, 13, 14, 15, 16, 17, 18, 19, 20, 21, 22, 23]), 'num_ratio': set([0.0]), 'suff_type': set(['ru', 'net'])}, 'tofsee': {'count': 20, 'interval': set([7]), 'num_ratio': set([0.0]), 'suff_type': set(['ch', 'biz'])}, 'chinad': {'count': 1000, 'interval': set([16]), 'num_ratio': set([0.0, 0.625]), 'suff_type': set(['info', 'ru', 'cn', 'biz', 'org', 'net', 'com'])}, 'matsnu': {'count': 884, 'interval': set([12, 13, 14, 15, 16, 17, 18, 19, 20, 21, 22, 23]), 'num_ratio': set([0.0]), 'suff_type': set(['com'])}, 'pykspa_v2_fake': {'count': 799, 'interval': set([6, 7, 8, 9, 10, 11, 12]), 'num_ratio': set([0.0]), 'suff_type': set(['info', 'org', 'net', 'com'])}, 'fobber_v2': {'count': 298, 'interval': set([10]), 'num_ratio': set([0.0]), 'suff_type': set(['com'])}, 'proslikefan': {'count': 100, 'interval': set([6, 7, 8, 9, 10, 11]), 'num_ratio': set([0.0]), 'suff_type': set(['info', 'ru', 'name', 'biz', 'in', 'eu', 'org', 'net', 'com', 'se'])}, 'necurs': {'count': 8192, 'interval': set([7, 8, 9, 10, 11, 12, 13, 14, 15, 16, 17, 18, 19, 20, 21]), 'num_ratio': set([0.0]), 'suff_type': set(['ac', 'co', 'cm', 'cc', 'pro', 'ir', 'cx', 'im', 'su', 'ga', 'in', 'eu', 'ru', 'pw', 'la', 'tv', 'tw', 'nf', 'to', 'tj', 'net', 'nu', 'xxx', 'de', 'jp', 'biz', 'org', 'bit', 'bz', 'me', 'sx', 'ki', 'mn', 'us', 'mu', 'sh', 'so', 'ms', 'sc', 'kz', 'ug', 'com', 'mx'])}, 'gspy': {'count': 100, 'interval': set([16]), 'num_ratio': set([0.3125, 0.9375]), 'suff_type': set(['info', 'net'])}, 'cryptolocker': {'count': 1000, 'interval': set([12, 13, 14, 15]), 'num_ratio': set([0.0]), 'suff_type': set(['info', 'ru', 'co.uk', 'biz', 'org', 'net', 'com'])}, 'vawtrak': {'count': 298, 'interval': set([8, 9, 10, 11, 7]), 'num_ratio': set([0.0]), 'suff_type': set(['ru', 'top'])}, 'bamital': {'count': 104, 'interval': set([32]), 'num_ratio': set([0.5, 0.90625]), 'suff_type': set(['info', 'org', 'co.cc', 'cz.cc'])}, 'shifu': {'count': 2553, 'interval': set([7]), 'num_ratio': set([0.0]), 'suff_type': set(['info', 'eu'])}, 'emotet': {'count': 223295, 'interval': set([16]), 'num_ratio': set([0.0]), 'suff_type': set(['eu'])}, 'dircrypt': {'count': 470, 'interval': set([8, 9, 10, 11, 12, 13, 14, 15, 16, 17, 18, 19, 20]), 'num_ratio': set([0.0]), 'suff_type': set(['com'])}, 'nymaim': {'count': 404, 'interval': set([5, 6, 7, 8, 9, 10, 11, 12]), 'num_ratio': set([0.0]), 'suff_type': set(['info', 'ru', 'pw', 'xyz', 'biz', 'in', 'org', 'net', 'com'])}, 'fobber_v1': {'count': 298, 'interval': set([17]), 'num_ratio': set([0.0]), 'suff_type': set(['net'])}, 'mirai': {'count': 2, 'interval': set([12]), 'num_ratio': set([0.0]), 'suff_type': set(['tech', 'online'])}, 'conficker': {'count': 461, 'interval': set([5, 6, 7, 8, 9, 10, 11]), 'num_ratio': set([0.0]), 'suff_type': set(['info', 'cn', 'cc', 'biz', 'org', 'net', 'com'])}, 'virut': {'count': 9939, 'interval': set([6]), 'num_ratio': set([0.0]), 'suff_type': set(['com'])}}\n"
     ]
    }
   ],
   "source": [
    "with open (\"dga1.txt\",\"r\") as f:\n",
    "    \n",
    "    for line in f:\n",
    "        str1 = line.split('\\t')[0]\n",
    "        str2 = line.split('\\t')[1]\n",
    "\n",
    "        str3 = str2.partition('.')[0]\n",
    "        str4 = str2.partition('.')[-1]\n",
    "\n",
    "\n",
    "\n",
    "        if  dic.has_key(str1):\n",
    "            dic[str1]['count'] +=1\n",
    "            dic[str1]['suff_type'].add(str4)\n",
    "            dic[str1]['interval'].add(len(str3))\n",
    "\n",
    "        else:\n",
    "            dic[str1]={}\n",
    "\n",
    "            dic[str1]['count'] = 1\n",
    "\n",
    "            dic[str1]['suff_type']=set()\n",
    "            dic[str1]['suff_type'].add(str4)\n",
    "\n",
    "            dic[str1]['interval']=set()\n",
    "            dic[str1]['interval'].add(len(str3))\n",
    "\n",
    "            dic[str1]['num_ratio'] = set()\n",
    "            dic[str1]['num_ratio'].add(min(tuple(dic1[str1])))\n",
    "            dic[str1]['num_ratio'].add(max(tuple(dic1[str1])))\n",
    "    print dic\n"
   ]
  },
  {
   "cell_type": "code",
   "execution_count": 105,
   "metadata": {},
   "outputs": [],
   "source": [
    "import pandas as pd"
   ]
  },
  {
   "cell_type": "code",
   "execution_count": 106,
   "metadata": {},
   "outputs": [],
   "source": [
    "df = pd.DataFrame(dic)"
   ]
  },
  {
   "cell_type": "code",
   "execution_count": 108,
   "metadata": {},
   "outputs": [],
   "source": [
    "df.to_csv('aaaaaa.csv')"
   ]
  },
  {
   "cell_type": "code",
   "execution_count": 82,
   "metadata": {},
   "outputs": [],
   "source": [
    "dictest['aaa'] = {}"
   ]
  },
  {
   "cell_type": "code",
   "execution_count": 98,
   "metadata": {},
   "outputs": [],
   "source": [
    "dictest['aaa']['bbb']=set()"
   ]
  },
  {
   "cell_type": "code",
   "execution_count": 100,
   "metadata": {},
   "outputs": [],
   "source": [
    "dictest['aaa']['bbb'].add('123')"
   ]
  },
  {
   "cell_type": "code",
   "execution_count": 102,
   "metadata": {},
   "outputs": [
    {
     "data": {
      "text/plain": [
       "{'aaa': {'bbb': {'123'}}}"
      ]
     },
     "execution_count": 102,
     "metadata": {},
     "output_type": "execute_result"
    }
   ],
   "source": [
    "dictest"
   ]
  },
  {
   "cell_type": "code",
   "execution_count": 91,
   "metadata": {},
   "outputs": [],
   "source": [
    "dicaaa = {'a1':{'a2':123\n",
    "                ,'a3':456}\n",
    "          ,'a4':{'a5':678,\n",
    "                'a6':789}}\n",
    "       "
   ]
  },
  {
   "cell_type": "code",
   "execution_count": 92,
   "metadata": {},
   "outputs": [
    {
     "data": {
      "text/html": [
       "<div>\n",
       "<style scoped>\n",
       "    .dataframe tbody tr th:only-of-type {\n",
       "        vertical-align: middle;\n",
       "    }\n",
       "\n",
       "    .dataframe tbody tr th {\n",
       "        vertical-align: top;\n",
       "    }\n",
       "\n",
       "    .dataframe thead th {\n",
       "        text-align: right;\n",
       "    }\n",
       "</style>\n",
       "<table border=\"1\" class=\"dataframe\">\n",
       "  <thead>\n",
       "    <tr style=\"text-align: right;\">\n",
       "      <th></th>\n",
       "      <th>a1</th>\n",
       "      <th>a4</th>\n",
       "    </tr>\n",
       "  </thead>\n",
       "  <tbody>\n",
       "    <tr>\n",
       "      <th>a2</th>\n",
       "      <td>123.0</td>\n",
       "      <td>NaN</td>\n",
       "    </tr>\n",
       "    <tr>\n",
       "      <th>a3</th>\n",
       "      <td>456.0</td>\n",
       "      <td>NaN</td>\n",
       "    </tr>\n",
       "    <tr>\n",
       "      <th>a5</th>\n",
       "      <td>NaN</td>\n",
       "      <td>678.0</td>\n",
       "    </tr>\n",
       "    <tr>\n",
       "      <th>a6</th>\n",
       "      <td>NaN</td>\n",
       "      <td>789.0</td>\n",
       "    </tr>\n",
       "  </tbody>\n",
       "</table>\n",
       "</div>"
      ],
      "text/plain": [
       "       a1     a4\n",
       "a2  123.0    NaN\n",
       "a3  456.0    NaN\n",
       "a5    NaN  678.0\n",
       "a6    NaN  789.0"
      ]
     },
     "execution_count": 92,
     "metadata": {},
     "output_type": "execute_result"
    }
   ],
   "source": [
    "pd.DataFrame(dicaaa)"
   ]
  },
  {
   "cell_type": "code",
   "execution_count": 93,
   "metadata": {},
   "outputs": [],
   "source": [
    "abc = set()"
   ]
  },
  {
   "cell_type": "code",
   "execution_count": 96,
   "metadata": {},
   "outputs": [],
   "source": [
    "abc.add(1)"
   ]
  },
  {
   "cell_type": "code",
   "execution_count": 97,
   "metadata": {},
   "outputs": [
    {
     "data": {
      "text/plain": [
       "{1, 'aa'}"
      ]
     },
     "execution_count": 97,
     "metadata": {},
     "output_type": "execute_result"
    }
   ],
   "source": [
    "abc"
   ]
  },
  {
   "cell_type": "code",
   "execution_count": null,
   "metadata": {},
   "outputs": [],
   "source": []
  }
 ],
 "metadata": {
  "kernelspec": {
   "display_name": "Python 2",
   "language": "python",
   "name": "python2"
  },
  "language_info": {
   "codemirror_mode": {
    "name": "ipython",
    "version": 2
   },
   "file_extension": ".py",
   "mimetype": "text/x-python",
   "name": "python",
   "nbconvert_exporter": "python",
   "pygments_lexer": "ipython2",
   "version": "2.7.12"
  }
 },
 "nbformat": 4,
 "nbformat_minor": 2
}
