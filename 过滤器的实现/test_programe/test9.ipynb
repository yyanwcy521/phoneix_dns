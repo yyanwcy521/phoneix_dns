{
 "cells": [
  {
   "cell_type": "code",
   "execution_count": 8,
   "metadata": {},
   "outputs": [],
   "source": [
    "import domain\n",
    "from linguistic_classifier import DGAClassifier"
   ]
  },
  {
   "cell_type": "code",
   "execution_count": 9,
   "metadata": {},
   "outputs": [],
   "source": [
    "import pandas as pd"
   ]
  },
  {
   "cell_type": "code",
   "execution_count": 10,
   "metadata": {},
   "outputs": [],
   "source": [
    "lable = ['gameover', 'locky', 'nymaim', 'symmi', 'conficker',\n",
    "        'pykspa_v2_real', 'pykspa_v2_fake', 'bamital', 'madmax', 'qadars',\n",
    "        'necurs', 'cryptolocker', 'proslikefan', 'ranbyus', 'murofet',\n",
    "        'suppobox', 'mirai', 'vidro', 'tofsee', 'dyre', 'chinad', 'virut',\n",
    "        'emotet', 'matsnu', 'blackhole', 'padcrypt', 'xshellghost',\n",
    "        'ccleaner', 'fobber_v1', 'dircrypt', 'tinba', 'ramnit', 'banjori',\n",
    "        'simda', 'fobber_v2', 'tempedreve', 'vawtrak', 'rovnix', 'gspy',\n",
    "        'pykspa_v1', 'shifu']"
   ]
  },
  {
   "cell_type": "code",
   "execution_count": 11,
   "metadata": {},
   "outputs": [],
   "source": [
    "f1 = open('test123.txt','w+')"
   ]
  },
  {
   "cell_type": "code",
   "execution_count": null,
   "metadata": {},
   "outputs": [],
   "source": [
    "\n",
    "\n",
    "with open ('dga1.txt') as f:\n",
    "    for a in lable:\n",
    "        count1 = 0\n",
    "        count2 = 0\n",
    "        \n",
    "        for line in f:\n",
    "            str1 = line.split('\\t')[0]\n",
    "            str2 = line.split('\\t')[1]\n",
    "            if str1 == a:\n",
    "                \n",
    "                count1 +=1\n",
    "                \n",
    "                do = domain.Domain(str2,'False')\n",
    "                DGA_classifier = DGAClassifier(do)\n",
    "                distance = DGA_classifier.classify()\n",
    "                if distance > 1.9975:\n",
    "                    count2 +=1\n",
    "                    #f1.write(str1 + \" \" + str2 + \" \" + str(distance) + \" \" + \"1\" + \"\\n\")\n",
    "                else:\n",
    "                    continue \n",
    "                    #f1.write(str1 + \" \" + str2 + \" \" + str(distance) + \" \" + \"0\" + \"\\n\")\n",
    "                    \n",
    "        f1.write(a + \" \" + str(float(count2)/float(count1))  + \"\\n\")     \n",
    "            \n"
   ]
  },
  {
   "cell_type": "code",
   "execution_count": null,
   "metadata": {},
   "outputs": [],
   "source": []
  },
  {
   "cell_type": "code",
   "execution_count": null,
   "metadata": {},
   "outputs": [],
   "source": []
  },
  {
   "cell_type": "code",
   "execution_count": null,
   "metadata": {},
   "outputs": [],
   "source": []
  },
  {
   "cell_type": "code",
   "execution_count": null,
   "metadata": {},
   "outputs": [],
   "source": []
  },
  {
   "cell_type": "code",
   "execution_count": null,
   "metadata": {},
   "outputs": [],
   "source": []
  },
  {
   "cell_type": "code",
   "execution_count": null,
   "metadata": {},
   "outputs": [],
   "source": []
  },
  {
   "cell_type": "code",
   "execution_count": null,
   "metadata": {},
   "outputs": [],
   "source": []
  },
  {
   "cell_type": "code",
   "execution_count": null,
   "metadata": {},
   "outputs": [],
   "source": []
  },
  {
   "cell_type": "code",
   "execution_count": null,
   "metadata": {},
   "outputs": [],
   "source": []
  },
  {
   "cell_type": "code",
   "execution_count": 4,
   "metadata": {},
   "outputs": [
    {
     "data": {
      "text/html": [
       "<div>\n",
       "<style scoped>\n",
       "    .dataframe tbody tr th:only-of-type {\n",
       "        vertical-align: middle;\n",
       "    }\n",
       "\n",
       "    .dataframe tbody tr th {\n",
       "        vertical-align: top;\n",
       "    }\n",
       "\n",
       "    .dataframe thead th {\n",
       "        text-align: right;\n",
       "    }\n",
       "</style>\n",
       "<table border=\"1\" class=\"dataframe\">\n",
       "  <thead>\n",
       "    <tr style=\"text-align: right;\">\n",
       "      <th></th>\n",
       "      <th>0</th>\n",
       "      <th>1</th>\n",
       "      <th>2</th>\n",
       "      <th>3</th>\n",
       "    </tr>\n",
       "  </thead>\n",
       "  <tbody>\n",
       "    <tr>\n",
       "      <th>0</th>\n",
       "      <td>gameover</td>\n",
       "      <td>igmw1w1wudxenelxbro1c6dfep.org</td>\n",
       "      <td>2018-01-02 00:00:00</td>\n",
       "      <td>2018-01-02 23:59:59</td>\n",
       "    </tr>\n",
       "    <tr>\n",
       "      <th>1</th>\n",
       "      <td>gameover</td>\n",
       "      <td>1aa3ahh1nicfif1b4b12c161p1ip.com</td>\n",
       "      <td>2018-01-02 00:00:00</td>\n",
       "      <td>2018-01-02 23:59:59</td>\n",
       "    </tr>\n",
       "    <tr>\n",
       "      <th>2</th>\n",
       "      <td>gameover</td>\n",
       "      <td>1s4hot0fvw8zpht7xyp9ze5we.biz</td>\n",
       "      <td>2018-01-02 00:00:00</td>\n",
       "      <td>2018-01-02 23:59:59</td>\n",
       "    </tr>\n",
       "    <tr>\n",
       "      <th>3</th>\n",
       "      <td>gameover</td>\n",
       "      <td>wq4j8qm8dbj7tki0a21305cke.com</td>\n",
       "      <td>2018-01-02 00:00:00</td>\n",
       "      <td>2018-01-02 23:59:59</td>\n",
       "    </tr>\n",
       "    <tr>\n",
       "      <th>4</th>\n",
       "      <td>gameover</td>\n",
       "      <td>1iytf25dr4p4l6a4cbh12hgqhn.com</td>\n",
       "      <td>2018-01-02 00:00:00</td>\n",
       "      <td>2018-01-02 23:59:59</td>\n",
       "    </tr>\n",
       "  </tbody>\n",
       "</table>\n",
       "</div>"
      ],
      "text/plain": [
       "          0                                 1                    2  \\\n",
       "0  gameover    igmw1w1wudxenelxbro1c6dfep.org  2018-01-02 00:00:00   \n",
       "1  gameover  1aa3ahh1nicfif1b4b12c161p1ip.com  2018-01-02 00:00:00   \n",
       "2  gameover     1s4hot0fvw8zpht7xyp9ze5we.biz  2018-01-02 00:00:00   \n",
       "3  gameover     wq4j8qm8dbj7tki0a21305cke.com  2018-01-02 00:00:00   \n",
       "4  gameover    1iytf25dr4p4l6a4cbh12hgqhn.com  2018-01-02 00:00:00   \n",
       "\n",
       "                     3  \n",
       "0  2018-01-02 23:59:59  \n",
       "1  2018-01-02 23:59:59  \n",
       "2  2018-01-02 23:59:59  \n",
       "3  2018-01-02 23:59:59  \n",
       "4  2018-01-02 23:59:59  "
      ]
     },
     "execution_count": 4,
     "metadata": {},
     "output_type": "execute_result"
    }
   ],
   "source": [
    "df.head()"
   ]
  },
  {
   "cell_type": "code",
   "execution_count": 6,
   "metadata": {},
   "outputs": [
    {
     "data": {
      "text/plain": [
       "array(['gameover', 'locky', 'nymaim', 'symmi', 'conficker',\n",
       "       'pykspa_v2_real', 'pykspa_v2_fake', 'bamital', 'madmax', 'qadars',\n",
       "       'necurs', 'cryptolocker', 'proslikefan', 'ranbyus', 'murofet',\n",
       "       'suppobox', 'mirai', 'vidro', 'tofsee', 'dyre', 'chinad', 'virut',\n",
       "       'emotet', 'matsnu', 'blackhole', 'padcrypt', 'xshellghost',\n",
       "       'ccleaner', 'fobber_v1', 'dircrypt', 'tinba', 'ramnit', 'banjori',\n",
       "       'simda', 'fobber_v2', 'tempedreve', 'vawtrak', 'rovnix', 'gspy',\n",
       "       'pykspa_v1', 'shifu'], dtype=object)"
      ]
     },
     "execution_count": 6,
     "metadata": {},
     "output_type": "execute_result"
    }
   ],
   "source": [
    "df['a'].unique()"
   ]
  },
  {
   "cell_type": "code",
   "execution_count": 3,
   "metadata": {},
   "outputs": [
    {
     "name": "stderr",
     "output_type": "stream",
     "text": [
      "/usr/local/lib/python2.7/dist-packages/ipykernel_launcher.py:1: ParserWarning: Falling back to the 'python' engine because the 'c' engine does not support regex separators (separators > 1 char and different from '\\s+' are interpreted as regex); you can avoid this warning by specifying engine='python'.\n",
      "  \"\"\"Entry point for launching an IPython kernel.\n"
     ]
    }
   ],
   "source": [
    "df = pd.read_csv('dga1.txt',sep=r'\\t',header=None)"
   ]
  },
  {
   "cell_type": "code",
   "execution_count": 5,
   "metadata": {},
   "outputs": [],
   "source": [
    "df.columns = ['a','b','c','d']"
   ]
  }
 ],
 "metadata": {
  "kernelspec": {
   "display_name": "Python 2",
   "language": "python",
   "name": "python2"
  },
  "language_info": {
   "codemirror_mode": {
    "name": "ipython",
    "version": 2
   },
   "file_extension": ".py",
   "mimetype": "text/x-python",
   "name": "python",
   "nbconvert_exporter": "python",
   "pygments_lexer": "ipython2",
   "version": "2.7.12"
  }
 },
 "nbformat": 4,
 "nbformat_minor": 2
}
