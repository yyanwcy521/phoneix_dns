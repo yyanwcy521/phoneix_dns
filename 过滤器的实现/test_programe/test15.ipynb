{
 "cells": [
  {
   "cell_type": "code",
   "execution_count": 1,
   "metadata": {},
   "outputs": [],
   "source": [
    "import time"
   ]
  },
  {
   "cell_type": "code",
   "execution_count": 2,
   "metadata": {},
   "outputs": [
    {
     "name": "stdout",
     "output_type": "stream",
     "text": [
      "这时候你不要忘记发个红包！！\n",
      "哈哈，这是一个测试题！！\n"
     ]
    }
   ],
   "source": [
    "if __name__=='__main__':\n",
    "    date=time.strftime('%m-%d',time.localtime())\n",
    "    if date=='02-14':\n",
    "        print '情人节是时候给你女朋友买支玫瑰花了！！'\n",
    "    else:\n",
    "        print '这时候你不要忘记发个红包！！'\n",
    "    print '哈哈，这是一个测试题！！'"
   ]
  },
  {
   "cell_type": "code",
   "execution_count": 17,
   "metadata": {},
   "outputs": [],
   "source": [
    "date=time.strftime('%Y-%m-%d %H:%M:%S',time.localtime())"
   ]
  },
  {
   "cell_type": "code",
   "execution_count": 19,
   "metadata": {},
   "outputs": [
    {
     "data": {
      "text/plain": [
       "'2018-04-09 08:11:41'"
      ]
     },
     "execution_count": 19,
     "metadata": {},
     "output_type": "execute_result"
    }
   ],
   "source": [
    "date"
   ]
  },
  {
   "cell_type": "code",
   "execution_count": 21,
   "metadata": {},
   "outputs": [
    {
     "data": {
      "text/plain": [
       "time.struct_time(tm_year=2018, tm_mon=4, tm_mday=9, tm_hour=8, tm_min=14, tm_sec=5, tm_wday=0, tm_yday=99, tm_isdst=0)"
      ]
     },
     "execution_count": 21,
     "metadata": {},
     "output_type": "execute_result"
    }
   ],
   "source": [
    "time.localtime()"
   ]
  },
  {
   "cell_type": "code",
   "execution_count": 28,
   "metadata": {},
   "outputs": [
    {
     "name": "stdout",
     "output_type": "stream",
     "text": [
      "8388608\n"
     ]
    }
   ],
   "source": [
    "if __name__ == '__main__':\n",
    "    sum = 32\n",
    "    for i in range(3,9):\n",
    "        sum += 7*4*(8**(i-2))\n",
    "    print sum"
   ]
  },
  {
   "cell_type": "code",
   "execution_count": 29,
   "metadata": {},
   "outputs": [],
   "source": [
    "mylist = ['Brazil', 'Russia', 'India', 'China']"
   ]
  },
  {
   "cell_type": "code",
   "execution_count": 31,
   "metadata": {},
   "outputs": [
    {
     "data": {
      "text/plain": [
       "'Brazil,Russia,India,China'"
      ]
     },
     "execution_count": 31,
     "metadata": {},
     "output_type": "execute_result"
    }
   ],
   "source": [
    "','.join(mylist)"
   ]
  },
  {
   "cell_type": "code",
   "execution_count": 7,
   "metadata": {},
   "outputs": [
    {
     "name": "stdout",
     "output_type": "stream",
     "text": [
      "Please Input a Odd Number :13\n",
      "The nine is the NUMBER! 999999\n"
     ]
    }
   ],
   "source": [
    "import sys\n",
    "\n",
    "if __name__ == '__main__':\n",
    "    max1 = sys.maxsize\n",
    "    nine = 9\n",
    "    num = input('Please Input a Odd Number :')\n",
    "    if not isinstance(num,int) or num%2==0:\n",
    "        print 'You |input a wrong NUMBER!'\n",
    "    \n",
    "    for i in range(100000):\n",
    "        if nine%num == 0:\n",
    "            break\n",
    "        else:\n",
    "            nine = int(str(nine)+str(9))\n",
    "            continue\n",
    "    print 'The nine is the NUMBER!',nine\n",
    "    "
   ]
  },
  {
   "cell_type": "code",
   "execution_count": 8,
   "metadata": {},
   "outputs": [
    {
     "data": {
      "text/plain": [
       "'acegikmbdfhjlnpq'"
      ]
     },
     "execution_count": 8,
     "metadata": {},
     "output_type": "execute_result"
    }
   ],
   "source": [
    "a = \"acegikm\"\n",
    "b = \"bdfhjlnpq\"\n",
    "c = a + b\n",
    "c"
   ]
  },
  {
   "cell_type": "code",
   "execution_count": 10,
   "metadata": {},
   "outputs": [
    {
     "data": {
      "text/plain": [
       "'-------'"
      ]
     },
     "execution_count": 10,
     "metadata": {},
     "output_type": "execute_result"
    }
   ],
   "source": [
    "'-'*7"
   ]
  },
  {
   "cell_type": "code",
   "execution_count": 11,
   "metadata": {},
   "outputs": [],
   "source": [
    "import numpy as np"
   ]
  },
  {
   "cell_type": "code",
   "execution_count": 20,
   "metadata": {},
   "outputs": [],
   "source": [
    "ran = np.random.uniform(1,50,7)"
   ]
  },
  {
   "cell_type": "code",
   "execution_count": 21,
   "metadata": {},
   "outputs": [
    {
     "name": "stdout",
     "output_type": "stream",
     "text": [
      "22 **********************\n",
      "30 ******************************\n",
      "25 *************************\n",
      "43 *******************************************\n",
      "48 ************************************************\n",
      "3 ***\n",
      "34 **********************************\n"
     ]
    }
   ],
   "source": [
    "for i in ran:\n",
    "    print int(i),  '*'*int(i)"
   ]
  },
  {
   "cell_type": "code",
   "execution_count": 22,
   "metadata": {},
   "outputs": [],
   "source": [
    "testList=[10086,'中国移动',[1,2,4,5]]  "
   ]
  },
  {
   "cell_type": "code",
   "execution_count": 23,
   "metadata": {},
   "outputs": [
    {
     "name": "stdout",
     "output_type": "stream",
     "text": [
      "3\n"
     ]
    }
   ],
   "source": [
    "print len(testList)"
   ]
  },
  {
   "cell_type": "code",
   "execution_count": 26,
   "metadata": {},
   "outputs": [
    {
     "name": "stdout",
     "output_type": "stream",
     "text": [
      "['\\xe4\\xb8\\xad\\xe5\\x9b\\xbd\\xe7\\xa7\\xbb\\xe5\\x8a\\xa8', [1, 2, 4, 5]]\n"
     ]
    }
   ],
   "source": [
    "print testList[1:] "
   ]
  },
  {
   "cell_type": "code",
   "execution_count": 27,
   "metadata": {},
   "outputs": [],
   "source": [
    "testList.append('i\\'m new here!')"
   ]
  },
  {
   "cell_type": "code",
   "execution_count": 28,
   "metadata": {},
   "outputs": [
    {
     "data": {
      "text/plain": [
       "[10086,\n",
       " '\\xe4\\xb8\\xad\\xe5\\x9b\\xbd\\xe7\\xa7\\xbb\\xe5\\x8a\\xa8',\n",
       " [1, 2, 4, 5],\n",
       " \"i'm new here!\"]"
      ]
     },
     "execution_count": 28,
     "metadata": {},
     "output_type": "execute_result"
    }
   ],
   "source": [
    "testList"
   ]
  },
  {
   "cell_type": "code",
   "execution_count": 30,
   "metadata": {},
   "outputs": [
    {
     "data": {
      "text/plain": [
       "[1, 2, 4, 5]"
      ]
     },
     "execution_count": 30,
     "metadata": {},
     "output_type": "execute_result"
    }
   ],
   "source": [
    "testList.pop(1) "
   ]
  },
  {
   "cell_type": "code",
   "execution_count": 31,
   "metadata": {},
   "outputs": [
    {
     "data": {
      "text/plain": [
       "[10086, \"i'm new here!\"]"
      ]
     },
     "execution_count": 31,
     "metadata": {},
     "output_type": "execute_result"
    }
   ],
   "source": [
    "testList"
   ]
  },
  {
   "cell_type": "code",
   "execution_count": 32,
   "metadata": {},
   "outputs": [],
   "source": [
    "matrix = [[1, 2, 3],  \n",
    "[4, 5, 6],  \n",
    "[7, 8, 9]] "
   ]
  },
  {
   "cell_type": "code",
   "execution_count": 33,
   "metadata": {},
   "outputs": [
    {
     "data": {
      "text/plain": [
       "[[1, 2, 3], [4, 5, 6], [7, 8, 9]]"
      ]
     },
     "execution_count": 33,
     "metadata": {},
     "output_type": "execute_result"
    }
   ],
   "source": [
    "matrix"
   ]
  },
  {
   "cell_type": "code",
   "execution_count": 34,
   "metadata": {},
   "outputs": [
    {
     "data": {
      "text/plain": [
       "[2, 5, 8]"
      ]
     },
     "execution_count": 34,
     "metadata": {},
     "output_type": "execute_result"
    }
   ],
   "source": [
    "[row[1] for row in matrix]"
   ]
  },
  {
   "cell_type": "code",
   "execution_count": 35,
   "metadata": {},
   "outputs": [],
   "source": [
    "import  time"
   ]
  },
  {
   "cell_type": "code",
   "execution_count": 69,
   "metadata": {},
   "outputs": [
    {
     "data": {
      "text/plain": [
       "8.054461"
      ]
     },
     "execution_count": 69,
     "metadata": {},
     "output_type": "execute_result"
    }
   ],
   "source": [
    "time.clock()"
   ]
  },
  {
   "cell_type": "code",
   "execution_count": 41,
   "metadata": {},
   "outputs": [],
   "source": [
    "import random"
   ]
  },
  {
   "cell_type": "code",
   "execution_count": 43,
   "metadata": {},
   "outputs": [
    {
     "data": {
      "text/plain": [
       "2471568005"
      ]
     },
     "execution_count": 43,
     "metadata": {},
     "output_type": "execute_result"
    }
   ],
   "source": [
    "random.randint(0,2**32) "
   ]
  },
  {
   "cell_type": "code",
   "execution_count": 61,
   "metadata": {},
   "outputs": [
    {
     "data": {
      "text/plain": [
       "10"
      ]
     },
     "execution_count": 61,
     "metadata": {},
     "output_type": "execute_result"
    }
   ],
   "source": [
    "random.randint(0,10)"
   ]
  },
  {
   "cell_type": "code",
   "execution_count": 75,
   "metadata": {},
   "outputs": [
    {
     "name": "stdout",
     "output_type": "stream",
     "text": [
      "do you want to play it.('y' or 'n')y\n"
     ]
    }
   ],
   "source": [
    "play_it = raw_input('do you want to play it.(\\'y\\' or \\'n\\')')"
   ]
  },
  {
   "cell_type": "code",
   "execution_count": 76,
   "metadata": {},
   "outputs": [
    {
     "data": {
      "text/plain": [
       "'y'"
      ]
     },
     "execution_count": 76,
     "metadata": {},
     "output_type": "execute_result"
    }
   ],
   "source": [
    "play_it"
   ]
  },
  {
   "cell_type": "code",
   "execution_count": 83,
   "metadata": {},
   "outputs": [],
   "source": [
    "str1 = 'asdasdasd'"
   ]
  },
  {
   "cell_type": "code",
   "execution_count": 85,
   "metadata": {},
   "outputs": [
    {
     "data": {
      "text/plain": [
       "0"
      ]
     },
     "execution_count": 85,
     "metadata": {},
     "output_type": "execute_result"
    }
   ],
   "source": [
    "str1.count('b')"
   ]
  },
  {
   "cell_type": "code",
   "execution_count": 86,
   "metadata": {},
   "outputs": [
    {
     "name": "stdout",
     "output_type": "stream",
     "text": [
      "2015-08-28 00:00:00\n"
     ]
    }
   ],
   "source": [
    "from dateutil import parser\n",
    "dt = parser.parse(\"Aug 28 2015 12:00AM\")\n",
    "print dt"
   ]
  },
  {
   "cell_type": "code",
   "execution_count": 97,
   "metadata": {},
   "outputs": [
    {
     "name": "stdout",
     "output_type": "stream",
     "text": [
      "6L6T5YWl5paH5Lu25ZCNOgo=\n",
      "a\n",
      "6L6T5YWl5a2X56ym5LiyOgo=\n",
      "aaa\n",
      "aaaddd\n",
      " dddccc\n",
      " cccaaa\n",
      " aaa#\n",
      "\n"
     ]
    }
   ],
   "source": [
    "if __name__ == '__main__':\n",
    "    from sys import stdout\n",
    "    filename = raw_input('输入文件名:\\n')\n",
    "    fp = open(filename,\"w\")\n",
    "    ch = raw_input('输入字符串:\\n')\n",
    "    while ch != '#':\n",
    "        fp.write(ch)\n",
    "        stdout.write(ch)\n",
    "        ch = raw_input('')\n",
    "    fp.close()"
   ]
  },
  {
   "cell_type": "code",
   "execution_count": 92,
   "metadata": {},
   "outputs": [
    {
     "name": "stdout",
     "output_type": "stream",
     "text": [
      "sdf\n"
     ]
    }
   ],
   "source": [
    "ch = raw_input('')"
   ]
  },
  {
   "cell_type": "code",
   "execution_count": 98,
   "metadata": {},
   "outputs": [],
   "source": [
    "str1 = 'asdasd'"
   ]
  },
  {
   "cell_type": "code",
   "execution_count": 99,
   "metadata": {},
   "outputs": [
    {
     "data": {
      "text/plain": [
       "'ASDASD'"
      ]
     },
     "execution_count": 99,
     "metadata": {},
     "output_type": "execute_result"
    }
   ],
   "source": [
    "str1.upper()"
   ]
  },
  {
   "cell_type": "code",
   "execution_count": 104,
   "metadata": {},
   "outputs": [
    {
     "name": "stdout",
     "output_type": "stream",
     "text": [
      "Please input a string:\n",
      "qweqwe\n",
      "QWEQWE\n"
     ]
    }
   ],
   "source": [
    "if __name__ == '__main__':\n",
    "    fp = open('text.txt','w+')\n",
    "    str1 = raw_input('Please input a string:\\n')\n",
    "    str1 = str1.upper()\n",
    "    fp.write(str1)\n",
    "    fp = open('text.txt','r')\n",
    "    print fp.read()\n",
    "    fp.close()\n",
    "    "
   ]
  },
  {
   "cell_type": "code",
   "execution_count": null,
   "metadata": {},
   "outputs": [],
   "source": []
  }
 ],
 "metadata": {
  "kernelspec": {
   "display_name": "Python 2",
   "language": "python",
   "name": "python2"
  },
  "language_info": {
   "codemirror_mode": {
    "name": "ipython",
    "version": 2
   },
   "file_extension": ".py",
   "mimetype": "text/x-python",
   "name": "python",
   "nbconvert_exporter": "python",
   "pygments_lexer": "ipython2",
   "version": "2.7.12"
  }
 },
 "nbformat": 4,
 "nbformat_minor": 2
}
