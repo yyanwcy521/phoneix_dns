{
 "cells": [
  {
   "cell_type": "code",
   "execution_count": 1,
   "metadata": {},
   "outputs": [],
   "source": [
    "import domain\n",
    "from linguistic_classifier import DGAClassifier\n"
   ]
  },
  {
   "cell_type": "code",
   "execution_count": 2,
   "metadata": {},
   "outputs": [],
   "source": [
    "f1 = open('test123.txt','w+')"
   ]
  },
  {
   "cell_type": "code",
   "execution_count": 3,
   "metadata": {},
   "outputs": [
    {
     "name": "stdout",
     "output_type": "stream",
     "text": [
      "[[0.00000000e+00 1.00000000e+00 1.00000000e+00 ... 7.77777778e-01\n",
      "  6.66666667e-01 5.00000000e-01]\n",
      " [3.93033333e+03 3.38928571e+03 3.39937500e+03 ... 5.06455556e+03\n",
      "  3.89766667e+03 4.76283333e+03]\n",
      " [1.61200000e+02 1.55500000e+02 1.63714286e+02 ... 4.60250000e+02\n",
      "  2.86000000e+02 3.31545455e+02]\n",
      " [2.25000000e+00 1.48000000e+01 1.83333333e+01 ... 3.31428571e+01\n",
      "  3.17500000e+01 2.13000000e+01]] [[1.14820313e-01 1.07920901e+02 2.16590235e+01 4.26191790e+00]\n",
      " [1.07920901e+02 7.32862742e+05 9.43515291e+04 1.11134256e+04]\n",
      " [2.16590235e+01 9.43515291e+04 2.18888689e+04 3.13848486e+03]\n",
      " [4.26191790e+00 1.11134256e+04 3.13848486e+03 8.65119412e+02]] [[ 1.12719918e+01 -7.68798011e-04 -2.69617610e-03 -3.58729859e-02]\n",
      " [-7.68798011e-04  3.25640010e-06 -1.62992750e-05  2.10859001e-05]\n",
      " [-2.69617610e-03 -1.62992750e-05  1.80654827e-04 -4.32715733e-04]\n",
      " [-3.58729859e-02  2.10859001e-05 -4.32715733e-04  2.63157072e-03]] [5.17729530e-01 3.90949232e+03 3.04974581e+02 3.00530989e+01]\n"
     ]
    }
   ],
   "source": [
    "with open ('dga1.txt') as f:\n",
    "    for line in f:\n",
    "        str1 = line.split('\\t')[0]\n",
    "        str2 = line.split('\\t')[1]\n",
    "        if str1 == 'banjori':\n",
    "            do = domain.Domain(str2,'False')\n",
    "            DGA_classifier = DGAClassifier(do)\n",
    "            distance = DGA_classifier.classify()\n",
    "            if distance > 1.9975:\n",
    "            #if do.get_linguistic_feature_set().get_DGA_label() == 'DGA':\n",
    "                f1.write(str1 + \" \" + str2 + \" \" + str(distance) + \" \" + \"1\" + \"\\n\")\n",
    "            else:\n",
    "                f1.write(str1 + \" \" + str2 + \" \" + str(distance) + \" \" + \"0\" + \"\\n\")\n",
    "            \n",
    "        else:\n",
    "            continue\n",
    "f1.close()"
   ]
  },
  {
   "cell_type": "code",
   "execution_count": null,
   "metadata": {},
   "outputs": [],
   "source": []
  }
 ],
 "metadata": {
  "kernelspec": {
   "display_name": "Python 2",
   "language": "python",
   "name": "python2"
  },
  "language_info": {
   "codemirror_mode": {
    "name": "ipython",
    "version": 2
   },
   "file_extension": ".py",
   "mimetype": "text/x-python",
   "name": "python",
   "nbconvert_exporter": "python",
   "pygments_lexer": "ipython2",
   "version": "2.7.12"
  }
 },
 "nbformat": 4,
 "nbformat_minor": 2
}
