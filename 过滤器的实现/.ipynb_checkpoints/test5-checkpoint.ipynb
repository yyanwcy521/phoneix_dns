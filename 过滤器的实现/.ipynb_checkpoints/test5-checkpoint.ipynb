{
 "cells": [
  {
   "cell_type": "code",
   "execution_count": 75,
   "metadata": {},
   "outputs": [],
   "source": [
    "f=open(\"dga1.txt\",\"r\")"
   ]
  },
  {
   "cell_type": "code",
   "execution_count": 76,
   "metadata": {},
   "outputs": [],
   "source": [
    "list1 = []\n",
    "list2 = []\n",
    "list3 = []\n",
    "list4 = []\n",
    "set1 = set()\n",
    "set2 = set()\n",
    "set3 = set()\n",
    "dic1 = {}\n",
    "dic2 = {}\n",
    "dic = {}"
   ]
  },
  {
   "cell_type": "code",
   "execution_count": 77,
   "metadata": {},
   "outputs": [],
   "source": [
    "for line in f:\n",
    "    str1 = line.split('\\t')[0]\n",
    "    str2 = line.split('\\t')[1]\n",
    "\n",
    "    str3 = str2.partition('.')[0]\n",
    "    str4 = str2.partition('.')[-1]\n",
    "    \n",
    "    \n",
    "    int1=0\n",
    "    for x in str3:\n",
    "        if x.isalpha():\n",
    "            int1=int1+1\n",
    "            \n",
    "    int2=0\n",
    "    for x in str3:\n",
    "        if x.isdigit():\n",
    "            int2=int2+1\n",
    "            \n",
    "    rate = float(int2)/float(len(str3))\n",
    "    \n",
    "    if str1 in dic1:\n",
    "        dic1[str1].append(rate)\n",
    "    else:\n",
    "        dic1[str1] = []\n",
    "        dic1[str1].append(rate)\n",
    "    \n",
    "    "
   ]
  },
  {
   "cell_type": "code",
   "execution_count": 85,
   "metadata": {},
   "outputs": [],
   "source": [
    "for line in f:\n",
    "    str1 = line.split('\\t')[0]\n",
    "    str2 = line.split('\\t')[1]\n",
    "\n",
    "    str3 = str2.partition('.')[0]\n",
    "    str4 = str2.partition('.')[-1]\n",
    "        \n",
    "    \n",
    "    \n",
    "    if  dic.has_key(str1):\n",
    "        dic[str1]['count'] +=1\n",
    "        dic[str1]['suff_type'].add(str4)\n",
    "        dic[str1]['interval'].add(len(str3))\n",
    "        \n",
    "    else:\n",
    "        dic[str1]={}\n",
    "        \n",
    "        dic[str1]['count'] = 1\n",
    "        \n",
    "        dic[str1]['suff_type']=set()\n",
    "        dic[str1]['suff_type'].add(str4)\n",
    "        \n",
    "        dic[str1]['interval']=set()\n",
    "        dic[str1]['interval'].add(len(str3))\n",
    "    \n",
    "        dic[str1]['num_ratio'] = set()\n",
    "        dic[str1]['num_ratio'].add(min(tuple(dic1[str1])))\n",
    "        dic[str1]['num_ratio'].add(max(tuple(dic1[str1])))\n",
    "print dic"
   ]
  },
  {
   "cell_type": "code",
   "execution_count": null,
   "metadata": {},
   "outputs": [],
   "source": []
  },
  {
   "cell_type": "code",
   "execution_count": null,
   "metadata": {},
   "outputs": [],
   "source": []
  },
  {
   "cell_type": "code",
   "execution_count": 81,
   "metadata": {},
   "outputs": [],
   "source": [
    "dictest = {}"
   ]
  },
  {
   "cell_type": "code",
   "execution_count": 82,
   "metadata": {},
   "outputs": [],
   "source": [
    "dictest['aaa'] = {}"
   ]
  },
  {
   "cell_type": "code",
   "execution_count": 83,
   "metadata": {},
   "outputs": [],
   "source": [
    "dictest['aaa']['bbb']=1"
   ]
  },
  {
   "cell_type": "code",
   "execution_count": 84,
   "metadata": {},
   "outputs": [
    {
     "data": {
      "text/plain": [
       "{'aaa': {'bbb': 1}}"
      ]
     },
     "execution_count": 84,
     "metadata": {},
     "output_type": "execute_result"
    }
   ],
   "source": [
    "dictest"
   ]
  },
  {
   "cell_type": "code",
   "execution_count": 52,
   "metadata": {},
   "outputs": [],
   "source": []
  },
  {
   "cell_type": "code",
   "execution_count": 54,
   "metadata": {},
   "outputs": [],
   "source": []
  },
  {
   "cell_type": "code",
   "execution_count": 55,
   "metadata": {},
   "outputs": [
    {
     "data": {
      "text/plain": [
       "{'a': 1}"
      ]
     },
     "execution_count": 55,
     "metadata": {},
     "output_type": "execute_result"
    }
   ],
   "source": []
  },
  {
   "cell_type": "code",
   "execution_count": 56,
   "metadata": {},
   "outputs": [],
   "source": []
  },
  {
   "cell_type": "code",
   "execution_count": 58,
   "metadata": {},
   "outputs": [],
   "source": []
  },
  {
   "cell_type": "code",
   "execution_count": 59,
   "metadata": {},
   "outputs": [
    {
     "data": {
      "text/plain": [
       "{'a': {'b': 5}}"
      ]
     },
     "execution_count": 59,
     "metadata": {},
     "output_type": "execute_result"
    }
   ],
   "source": []
  },
  {
   "cell_type": "code",
   "execution_count": null,
   "metadata": {},
   "outputs": [],
   "source": []
  }
 ],
 "metadata": {
  "kernelspec": {
   "display_name": "Python 2",
   "language": "python",
   "name": "python2"
  },
  "language_info": {
   "codemirror_mode": {
    "name": "ipython",
    "version": 2
   },
   "file_extension": ".py",
   "mimetype": "text/x-python",
   "name": "python",
   "nbconvert_exporter": "python",
   "pygments_lexer": "ipython2",
   "version": "2.7.12"
  }
 },
 "nbformat": 4,
 "nbformat_minor": 2
}
